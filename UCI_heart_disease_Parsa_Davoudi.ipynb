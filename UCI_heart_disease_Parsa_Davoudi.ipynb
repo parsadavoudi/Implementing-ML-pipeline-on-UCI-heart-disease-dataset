{
  "nbformat": 4,
  "nbformat_minor": 0,
  "metadata": {
    "colab": {
      "provenance": []
    },
    "kernelspec": {
      "name": "python3",
      "display_name": "Python 3"
    },
    "language_info": {
      "name": "python"
    }
  },
  "cells": [
    {
      "cell_type": "markdown",
      "source": [
        "# Loading Dataset"
      ],
      "metadata": {
        "id": "tTSZWv7Kvl07"
      }
    },
    {
      "cell_type": "code",
      "execution_count": null,
      "metadata": {
        "id": "t2vh7apUghUE"
      },
      "outputs": [],
      "source": [
        "from google.colab import files\n",
        "import pandas as pd\n",
        "\n",
        "uploaded = files.upload()\n",
        "\n",
        "# Assuming one file is uploaded\n",
        "for fn in uploaded.keys():\n",
        "    df = pd.read_excel(fn)\n"
      ]
    },
    {
      "cell_type": "markdown",
      "source": [
        "# Exploratory Data Analysis (EDA)\n",
        "***this section has 6 steps***"
      ],
      "metadata": {
        "id": "rHvrW7q2gipH"
      }
    },
    {
      "cell_type": "markdown",
      "source": [
        "**EDA.01**"
      ],
      "metadata": {
        "id": "9OjTNpY9hpPe"
      }
    },
    {
      "cell_type": "code",
      "source": [
        "# 📊 First Step of EDA: Data Overview\n",
        "# 1. Shape\n",
        "print(\"🔹 Dataset Shape:\")\n",
        "print(f\"Rows: {df.shape[0]}, columns: {df.shape[1]}\\n\")\n",
        "\n",
        "# 2. Column Names and Data Types\n",
        "print(\"🔹 Column Names and Data Types:\")\n",
        "print(df.dtypes)\n",
        "print(\"\\n\")\n",
        "\n",
        "# 3. Missing Values\n",
        "print(\"🔹 Missing Values per Column:\")\n",
        "missing = df.isnull().sum()\n",
        "missing = missing[missing > 0]\n",
        "if not missing.empty:\n",
        "    print(missing)\n",
        "else:\n",
        "    print(\"No missing values found.\")\n",
        "print(\"\\n\")\n",
        "\n",
        "# 4. Basic Statistics\n",
        "print(\"🔹 Summary Statistics for Numerical Features:\")\n",
        "print(df.describe().T[['mean', 'std', 'min', 'max']])"
      ],
      "metadata": {
        "id": "VvqCEq4MvOxx"
      },
      "execution_count": null,
      "outputs": []
    },
    {
      "cell_type": "markdown",
      "source": [
        "**EDA.02**"
      ],
      "metadata": {
        "id": "Jvo-VehR3fpm"
      }
    },
    {
      "cell_type": "code",
      "source": [
        "import matplotlib.pyplot as plt\n",
        "import seaborn as sns\n",
        "\n",
        "# Target variable\n",
        "target = 'num'\n",
        "\n",
        "# Value counts\n",
        "print(\"🔹 Target Value Counts:\")\n",
        "print(df[target].value_counts())\n",
        "\n",
        "# Relative frequency\n",
        "print(\"\\n🔹 Target Class Proportions:\")\n",
        "print(df[target].value_counts(normalize=True))\n",
        "\n",
        "# Visualization\n",
        "plt.figure(figsize=(8, 5))\n",
        "sns.countplot(data=df, x=target, palette='coolwarm')\n",
        "plt.title(\"Distribution of Target Variable: Heart Disease Severity\")\n",
        "plt.xlabel(\"Heart Disease Class (num)\")\n",
        "plt.ylabel(\"Count\")\n",
        "plt.xticks(rotation=0)\n",
        "plt.tight_layout()\n",
        "plt.show()"
      ],
      "metadata": {
        "id": "8XuB0Hk_3mLr"
      },
      "execution_count": null,
      "outputs": []
    },
    {
      "cell_type": "markdown",
      "source": [
        "**EDA.03**"
      ],
      "metadata": {
        "id": "mAhzJ8QICuXU"
      }
    },
    {
      "cell_type": "code",
      "source": [
        "#Identify Feature Types ####################\n",
        "\n",
        "# Drop target column\n",
        "features = df.drop(columns=['num'])\n",
        "\n",
        "# Separate numerical and categorical columns\n",
        "numerical_cols = features.select_dtypes(include=['int64', 'float64']).columns\n",
        "categorical_cols = features.select_dtypes(include='object').columns\n",
        "\n",
        "print(\"🔹 Numerical Features:\", list(numerical_cols))\n",
        "print(\"🔹 Categorical Features:\", list(categorical_cols))\n",
        "\n",
        "\n",
        "# Plot Numerical Features ####################\n",
        "\n",
        "import matplotlib.pyplot as plt\n",
        "import seaborn as sns\n",
        "\n",
        "# Histograms\n",
        "features[numerical_cols].hist(figsize=(15, 10), bins=20, color='skyblue', edgecolor='black')\n",
        "plt.suptitle(\"Histograms of Numerical Features\", fontsize=16)\n",
        "plt.tight_layout()\n",
        "plt.show()\n",
        "\n",
        "# Boxplots\n",
        "plt.figure(figsize=(15, 8))\n",
        "for i, col in enumerate(numerical_cols, 1):\n",
        "    plt.subplot(3, 5, i)\n",
        "    sns.boxplot(y=features[col], color='lightgreen')\n",
        "    plt.title(col)\n",
        "plt.tight_layout()\n",
        "plt.show()\n",
        "\n",
        "\n",
        "\n",
        "\n",
        "#Plot Categorical Features ####################\n",
        "\n",
        "for col in categorical_cols:\n",
        "    print(f\"\\n🔹 Frequency Table for {col}\")\n",
        "    print(features[col].value_counts())\n",
        "\n",
        "    plt.figure(figsize=(6, 4))\n",
        "    sns.countplot(data=features, x=col, palette='pastel')\n",
        "    plt.title(f\"Bar Plot of {col}\")\n",
        "    plt.xticks(rotation=45)\n",
        "    plt.tight_layout()\n",
        "    plt.show()\n"
      ],
      "metadata": {
        "id": "0ITmrGnWC4lH"
      },
      "execution_count": null,
      "outputs": []
    },
    {
      "cell_type": "markdown",
      "source": [
        "**EDA.04**"
      ],
      "metadata": {
        "id": "igR3dN0KIuZP"
      }
    },
    {
      "cell_type": "code",
      "source": [
        "# Identify Feature Types ####################\n",
        "numerical_cols = df.select_dtypes(include=['int64', 'float64']).columns.drop('num')\n",
        "categorical_cols = df.select_dtypes(include='object').columns\n",
        "\n",
        "\n",
        "# Numerical vs Target – Boxplots & T-tests ####################\n",
        "from scipy.stats import ttest_ind\n",
        "import matplotlib.pyplot as plt\n",
        "import seaborn as sns\n",
        "\n",
        "for col in numerical_cols:\n",
        "    plt.figure(figsize=(6, 4))\n",
        "    sns.boxplot(data=df, x='num', y=col, palette='coolwarm')\n",
        "    plt.title(f\"{col} vs num\")\n",
        "    plt.tight_layout()\n",
        "    plt.show()\n",
        "\n",
        "    group0 = df[df['num'] == 0][col]\n",
        "    group1 = df[df['num'] != 0][col]\n",
        "    t_stat, p_val = ttest_ind(group0, group1, nan_policy='omit')\n",
        "    print(f\"T-test for {col}: t-stat = {t_stat:.2f}, p-value = {p_val:.4f}\")\n",
        "\n",
        "    # Categorical vs Target – Stacked Bar Plots ####################\n",
        "    for col in categorical_cols:\n",
        "      ct = pd.crosstab(df[col], df['num'], normalize='index')\n",
        "      ct.plot(kind='bar', stacked=True, figsize=(6, 4), colormap='Set2')\n",
        "    plt.title(f\"{col} vs num\")\n",
        "    plt.ylabel(\"Proportion\")\n",
        "    plt.tight_layout()\n",
        "    plt.show()"
      ],
      "metadata": {
        "id": "OkiHChVfIu4x"
      },
      "execution_count": null,
      "outputs": []
    },
    {
      "cell_type": "markdown",
      "source": [
        "EDA.05"
      ],
      "metadata": {
        "id": "CN5w-y2RJLI2"
      }
    },
    {
      "cell_type": "code",
      "source": [
        "# Correlation Matrix ####################\n",
        "import matplotlib.pyplot as plt\n",
        "import seaborn as sns\n",
        "\n",
        "# Select numerical columns including target\n",
        "numerical_cols = df.select_dtypes(include=['int64', 'float64']).columns\n",
        "\n",
        "# Correlation matrix\n",
        "plt.figure(figsize=(12, 10))\n",
        "corr = df[numerical_cols].corr()\n",
        "sns.heatmap(corr, annot=True, fmt=\".2f\", cmap='coolwarm', square=True)\n",
        "plt.title(\"Correlation Matrix of Numerical Features\")\n",
        "plt.tight_layout()\n",
        "plt.show()\n",
        "\n",
        "\n",
        "\n",
        "# Pairplot (Optional but Insightful) ####################\n",
        "selected = numerical_cols[:5].tolist() + ['num']  # Pick top 5 for clarity\n",
        "sns.pairplot(df[selected], hue='num', palette='husl')\n",
        "plt.suptitle(\"Pairplot of Selected Features\", y=1.02)\n",
        "plt.show()\n",
        "\n"
      ],
      "metadata": {
        "id": "MivK45xRJJ84"
      },
      "execution_count": null,
      "outputs": []
    },
    {
      "cell_type": "markdown",
      "source": [
        "**EDA.06**"
      ],
      "metadata": {
        "id": "lNr_pR6eJvJ6"
      }
    },
    {
      "cell_type": "code",
      "source": [
        "# Skewness of Numerical Features ####################\n",
        "from scipy.stats import skew\n",
        "\n",
        "numerical_cols = df.select_dtypes(include=['int64', 'float64']).columns.drop('num')\n",
        "\n",
        "print(\"🔹 Skewness of Numerical Features:\")\n",
        "for col in numerical_cols:\n",
        "    sk = skew(df[col].dropna())\n",
        "    print(f\"{col}: skewness = {sk:.2f}\")\n",
        "\n",
        "\n",
        "# Outlier Detection Using IQR ####################\n",
        "print(\"\\n🔹 Outlier Counts (IQR Method):\")\n",
        "for col in numerical_cols:\n",
        "    Q1 = df[col].quantile(0.25)\n",
        "    Q3 = df[col].quantile(0.75)\n",
        "    IQR = Q3 - Q1\n",
        "    outliers = df[(df[col] < Q1 - 1.5 * IQR) | (df[col] > Q3 + 1.5 * IQR)]\n",
        "    print(f\"{col}: {len(outliers)} outliers\")\n",
        "\n",
        "\n",
        "# Spot Invalid Values ####################\n",
        "print(\"\\n🔹 Invalid Value Checks:\")\n",
        "print(\"Negative values in 'chol':\", (df['chol'] < 0).sum())\n",
        "print(\"Negative values in 'trestbps':\", (df['trestbps'] < 0).sum())\n",
        "\n",
        "\n"
      ],
      "metadata": {
        "id": "NFvheFLdJziu"
      },
      "execution_count": null,
      "outputs": []
    },
    {
      "cell_type": "markdown",
      "source": [
        "# Preprocessing"
      ],
      "metadata": {
        "id": "_tAJovcljYxx"
      }
    },
    {
      "cell_type": "code",
      "source": [
        "# Step 1: Check for missing values\n",
        "missing = df.isnull().sum()\n",
        "missing = missing[missing > 0]\n",
        "\n",
        "if not missing.empty:\n",
        "    print(\"🔹 Missing Values Found:\")\n",
        "    print(missing)\n",
        "else:\n",
        "    print(\"✅ No missing values detected.\")\n",
        "\n",
        "    df.fillna(df.median(numeric_only=True), inplace=True)\n",
        "    for col in df.select_dtypes(include='object').columns:\n",
        "    df[col].fillna(df[col].mode()[0], inplace=True)"
      ],
      "metadata": {
        "id": "lt748pFBjf-M"
      },
      "execution_count": null,
      "outputs": []
    }
  ]
}